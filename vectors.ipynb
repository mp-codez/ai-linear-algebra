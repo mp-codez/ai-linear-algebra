{
  "nbformat": 4,
  "nbformat_minor": 0,
  "metadata": {
    "colab": {
      "provenance": [],
      "authorship_tag": "ABX9TyPV63rsfpIsXhnl6O37KY1C",
      "include_colab_link": true
    },
    "kernelspec": {
      "name": "python3",
      "display_name": "Python 3"
    },
    "language_info": {
      "name": "python"
    }
  },
  "cells": [
    {
      "cell_type": "markdown",
      "metadata": {
        "id": "view-in-github",
        "colab_type": "text"
      },
      "source": [
        "<a href=\"https://colab.research.google.com/github/mp-codez/ai-linear-algebra/blob/main/vectors.ipynb\" target=\"_parent\"><img src=\"https://colab.research.google.com/assets/colab-badge.svg\" alt=\"Open In Colab\"/></a>"
      ]
    },
    {
      "cell_type": "code",
      "execution_count": null,
      "metadata": {
        "colab": {
          "base_uri": "https://localhost:8080/"
        },
        "id": "EGbwaTmP5Svv",
        "outputId": "77111d1f-b1d1-4734-8402-e413f353cb6f"
      },
      "outputs": [
        {
          "output_type": "stream",
          "name": "stdout",
          "text": [
            "Euclidean distance from the origin: 73.13685801290619\n"
          ]
        }
      ],
      "source": [
        "# distance from origin -> euclidean norm\n",
        "\n",
        "import numpy as np\n",
        "\n",
        "# Define an n-D vector of A\n",
        "A = np.array([1, 2, 3, 4, 5, 43, 23, 54])\n",
        "\n",
        "# calculate the Euclidean distance from the origin (L2 norm)\n",
        "distance = np.linalg.norm(A)\n",
        "\n",
        "print(\"Euclidean distance from the origin:\", distance)"
      ]
    },
    {
      "cell_type": "code",
      "source": [
        "# to find euclidean distance in n-d\n",
        "import numpy as np\n",
        "\n",
        "# define two n-dimentional vectors A and B\n",
        "A = np.array([1, 2, 34, 54, 65])\n",
        "B = np.array([32, 33, 56, 67, 78])\n",
        "\n",
        "# Calculate the difference vector\n",
        "difference = A - B\n",
        "\n",
        "# Calculte he Euclidean distance Between A and B (L2 norm of the difference)\n",
        "distance = np.linalg.norm(difference)\n",
        "\n",
        "print(\"Euclidean distance between A and B:\", distance)"
      ],
      "metadata": {
        "colab": {
          "base_uri": "https://localhost:8080/"
        },
        "id": "cTGC4Sv56DLC",
        "outputId": "e3006ee9-8f68-4d2d-9e77-9ed1e8bf1d86"
      },
      "execution_count": null,
      "outputs": [
        {
          "output_type": "stream",
          "name": "stdout",
          "text": [
            "Euclidean distance between A and B: 52.38320341483518\n"
          ]
        }
      ]
    },
    {
      "cell_type": "code",
      "source": [],
      "metadata": {
        "id": "YRXf0jwO8vgy"
      },
      "execution_count": null,
      "outputs": []
    }
  ]
}